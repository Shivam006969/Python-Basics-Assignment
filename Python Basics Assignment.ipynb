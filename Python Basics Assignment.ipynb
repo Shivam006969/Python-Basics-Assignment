{
 "cells": [
  {
   "cell_type": "markdown",
   "id": "5d5d4416-aaa6-4ccf-bf83-01d185f64ba4",
   "metadata": {},
   "source": [
    "## 1. Explain the key features of Python that make it a popular choice for programming."
   ]
  },
  {
   "cell_type": "raw",
   "id": "53ab9636-5e95-48fd-8e28-9446c7058ba7",
   "metadata": {},
   "source": [
    "Python is a very easy to use programming language and has multiple features which makes it unique.\n",
    "Here are some key features of python that makes it popular choice for programming:-\n",
    "1. Simplicity: It is very widely used because of its simplicity. It has very clean and straightforward syntax.\n",
    "2. Multifunctional: It is a multifunctioning programming language which gives developers the opportunity to tackle various projects.\n",
    "3. Libraries: It comes with a very large number of libraries which provides us many ready to use modules and it reduces the burden of the user.\n",
    "4. Ease of learning: It's simple programming language makes it very easy to learn compared to other programming languages.\n",
    "5. Huge active comminity: Python has very large active community which makes it easier to find solution, libraries and frameworks."
   ]
  },
  {
   "cell_type": "markdown",
   "id": "f3358d6f-b9bf-4bde-8caf-1e7169216233",
   "metadata": {},
   "source": [
    "## 2. Describe the role of predefined keywords in Python and provide examples of how they are used in a program."
   ]
  },
  {
   "cell_type": "raw",
   "id": "dabac4af-9230-4182-8505-7a0c75a1672a",
   "metadata": {},
   "source": [
    "Predefined keywords in Python are unique characters that have a specific meaning and purpose in the language.\n",
    "They help us to perform various tasks and calculations in the program.\n",
    "Here are some examples of how they are used in a program:-"
   ]
  },
  {
   "cell_type": "code",
   "execution_count": 21,
   "id": "c69985d1-fe8e-4161-bbda-8f8d60c7c050",
   "metadata": {},
   "outputs": [
    {
     "data": {
      "text/plain": [
       "10"
      ]
     },
     "execution_count": 21,
     "metadata": {},
     "output_type": "execute_result"
    }
   ],
   "source": [
    "# \"=\" This is used to assign value to a variable.\n",
    "# \"+\" This is used to add two values.\n",
    "a = 4\n",
    "b = 6\n",
    "a+b"
   ]
  },
  {
   "cell_type": "code",
   "execution_count": 10,
   "id": "8e2217c1-703a-4e74-893d-7a498609f7a6",
   "metadata": {},
   "outputs": [
    {
     "name": "stdout",
     "output_type": "stream",
     "text": [
      "x is greater than 5\n"
     ]
    }
   ],
   "source": [
    "#Used for conditional statements\n",
    "x = 10\n",
    "if x > 5:\n",
    "    print(\"x is greater than 5\")\n",
    "else:\n",
    "    print(\"x is less than or equal to 5\")"
   ]
  },
  {
   "cell_type": "code",
   "execution_count": 18,
   "id": "7694fa14-6441-48b4-9914-40246742f838",
   "metadata": {},
   "outputs": [
    {
     "name": "stdout",
     "output_type": "stream",
     "text": [
      "0\n",
      "1\n",
      "2\n",
      "3\n",
      "4\n",
      "5\n",
      "6\n",
      "7\n",
      "8\n",
      "9\n"
     ]
    }
   ],
   "source": [
    "# for printing a range of data\n",
    "for i in range(10):\n",
    "    print(i)"
   ]
  },
  {
   "cell_type": "markdown",
   "id": "69935d49-88d2-4fe2-8b6b-08b074dfe836",
   "metadata": {},
   "source": [
    "## 3. Compare and contrast mutable and immutable objects in Python with examples."
   ]
  },
  {
   "cell_type": "raw",
   "id": "6f1ccba3-e72f-45a1-856e-5bff65a80f6d",
   "metadata": {},
   "source": [
    "In Python, objects are classified as mutable or immutable based on whether their values can be modified after creation. \n",
    "Mutable Objects\n",
    "- These objects can be changed after their creation. You can modify, add, or remove elements without creating a new object.\n",
    "- Examples: Lists, dictionaries, sets."
   ]
  },
  {
   "cell_type": "code",
   "execution_count": 21,
   "id": "0f788984-0d89-4a91-8fc7-e9311e46add8",
   "metadata": {},
   "outputs": [
    {
     "data": {
      "text/plain": [
       "[1, 2, 3]"
      ]
     },
     "execution_count": 21,
     "metadata": {},
     "output_type": "execute_result"
    }
   ],
   "source": [
    "# Mutable example using a list\n",
    "my_list = [1, 2, 3]\n",
    "my_list"
   ]
  },
  {
   "cell_type": "code",
   "execution_count": 23,
   "id": "a4b3e053-cb27-492f-8f6b-ed5bc663a343",
   "metadata": {},
   "outputs": [
    {
     "name": "stdout",
     "output_type": "stream",
     "text": [
      "[1, 2, 3, 4]\n"
     ]
    }
   ],
   "source": [
    "my_list.append(4)  # Modify the list\n",
    "print(my_list)  # Output: [1, 2, 3, 4]"
   ]
  },
  {
   "cell_type": "code",
   "execution_count": 25,
   "id": "7ae78fc0-0cbe-4e3c-a666-302ced4cad1c",
   "metadata": {},
   "outputs": [
    {
     "name": "stdout",
     "output_type": "stream",
     "text": [
      "[2, 3, 4]\n"
     ]
    }
   ],
   "source": [
    "my_list.remove(1) # Remove 1 from the list\n",
    "print(my_list)"
   ]
  },
  {
   "cell_type": "raw",
   "id": "3601fea6-041d-4edb-9767-4fbc1c84143d",
   "metadata": {},
   "source": [
    "Immutable Objects\n",
    "- These objects cannot be changed after their creation. Any modification results in the creation of a new object.\n",
    "- Examples: Integers, floats, strings, tuples."
   ]
  },
  {
   "cell_type": "code",
   "execution_count": 29,
   "id": "43f8e722-6b46-4419-898e-1c5f4a368785",
   "metadata": {},
   "outputs": [
    {
     "name": "stdout",
     "output_type": "stream",
     "text": [
      "hello world\n",
      "hello\n"
     ]
    }
   ],
   "source": [
    "# Immutable example using a string\n",
    "my_string = \"hello\"\n",
    "new_string = my_string + \" world\"  # Concatenate strings\n",
    "print(new_string)  # Output: \"hello world\"\n",
    "print(my_string)  # Output: \"hello\" (original string remains unchanged)\n",
    "# Here, modifying the string generates a new object, leaving my_string intact."
   ]
  },
  {
   "cell_type": "markdown",
   "id": "a7230aae-60c7-4e3a-add8-62758783a287",
   "metadata": {},
   "source": [
    "## 4. Discuss the different types of operators in Python and provide examples of how they are used."
   ]
  },
  {
   "cell_type": "raw",
   "id": "8a6a276e-d682-4143-983c-ce66f9d37e81",
   "metadata": {},
   "source": [
    "Python provides various operators to perform various operations on values and variables."
   ]
  },
  {
   "cell_type": "markdown",
   "id": "abc36ea1-11cc-47fb-89f8-d907313b192c",
   "metadata": {},
   "source": [
    "Here are some examples of how they are used:\n",
    "### 1. Artihmetic Operators\n",
    "    These are used to perform mathematical calculations.\n",
    "    '+'  Addition            |5 + 3 = 8   |\n",
    "    '-'  Subtraction         |5 - 3 = 2   |\n",
    "    '*'  Multiplication      |5 * 3 = 15  |\n",
    "    '/'  Division            |15 / 3 = 3  |\n",
    "    '%'  Modulus (remainder) |5 % 3 = 2   |\n",
    "    '**' Exponential         |5 ** 3 = 625|\n",
    "    '//' Floor Division      |5 // 2 = 2  |\n",
    "\n",
    "### 2. Comparison Operators\n",
    "    These operators are used to compare two values and they return a boolean value (True or False)\n",
    "    `==`  | Equal to               | `5 == 3` → `False` |\n",
    "    `!=`  | Not equal to           | `5 != 3` → `True`  |\n",
    "    `>`   | Greater than           | `5 > 3` → `True`   |\n",
    "    `<`   | Less than              | `5 < 3` → `False`  |\n",
    "    `>=`  | Greater than equal to  | `5 >= 3` → `True`  |\n",
    "    `<=`  | Less than equal to     | `5 <= 3` → `False` |\n",
    "\n",
    "### 3. Logical Operators\n",
    "    These are used to combine conditional statements.\n",
    "    `and`     | Logical AND    | `(5 > 3) and (3 > 1)` → `True` |\n",
    "    `or`      | Logical OR     | `(5 > 3) or (3 < 1)` → `True`  |\n",
    "    `not`     | Logical NOT    | `not(5 > 3)` → `False`         |\n",
    "\n",
    "### 4. Assignment Operators\n",
    "    `=`   | Assign                   | `x = 5`          |\n",
    "    `+=`  | Add and assign           | `x += 3` (same as `x = x + 3`) |\n",
    "    `-=`  | Subtract and assign      | `x -= 3`         |\n",
    "    `*=`  | Multiply and assign      | `x *= 3`         |\n",
    "    `/=`  | Divide and assign        | `x /= 3`         |\n",
    "\n",
    "### 5. Bitwise Operators\n",
    "    `&`          | AND            | `5 & 3` → `1`   |\n",
    "    `|`          | OR             | `5 | 3` → `7`   |\n",
    "    `^`          | XOR            | `5 ^ 3` → `6`   |\n",
    "    `~`          | NOT            | `~5` → `-6`     |\n",
    "    `<<`         | Left shift     | `5 << 1` → `10` |\n",
    "    `>>`         | Right shift    | `5 >> 1` → `2`  |\n",
    "\n",
    "### 6. Membership Operators\n",
    "    `in`         | Checks if in      | 'a' in 'apple' → `True`  |\n",
    "    `not in`     | Checks if not in  | 'x' not in 'apple' → `True`|"
   ]
  },
  {
   "cell_type": "markdown",
   "id": "65a748ec-aed9-4954-82a2-ca4a6563b55b",
   "metadata": {},
   "source": [
    "## 5. Explain the concept of type casting in Python with examples."
   ]
  },
  {
   "cell_type": "raw",
   "id": "8ddade7a-91e5-4ad8-a82f-917b77a8fd53",
   "metadata": {},
   "source": [
    "Type casting in Python refers to converting one data type to another, enabling us to work with data in the desired form. Here are some examples of the type casting supported by python:"
   ]
  },
  {
   "cell_type": "markdown",
   "id": "5e80ac08-3696-415f-bdd6-a891a1a843b5",
   "metadata": {},
   "source": [
    "There are two types of type casting:\n",
    "- Implicit type casting >> This type of data is automatically understood by python."
   ]
  },
  {
   "cell_type": "code",
   "execution_count": 9,
   "id": "e397cf44-be91-43e9-8790-8b2f8d4063cf",
   "metadata": {},
   "outputs": [
    {
     "data": {
      "text/plain": [
       "int"
      ]
     },
     "execution_count": 9,
     "metadata": {},
     "output_type": "execute_result"
    }
   ],
   "source": [
    "# Examples of Implicit Type Casting:\n",
    "a = 5\n",
    "type(a) # Here pythond will automatically take 5 as an integer."
   ]
  },
  {
   "cell_type": "code",
   "execution_count": 11,
   "id": "074d4b2f-dc1b-489f-8a70-290f56dfa934",
   "metadata": {},
   "outputs": [
    {
     "data": {
      "text/plain": [
       "float"
      ]
     },
     "execution_count": 11,
     "metadata": {},
     "output_type": "execute_result"
    }
   ],
   "source": [
    "b = 5.5\n",
    "type(b) # Here python will automatically take 5.5 as a float."
   ]
  },
  {
   "cell_type": "code",
   "execution_count": 13,
   "id": "8bb15c8f-b8ce-43bc-96ef-d4488f9f9f8e",
   "metadata": {},
   "outputs": [
    {
     "data": {
      "text/plain": [
       "bool"
      ]
     },
     "execution_count": 13,
     "metadata": {},
     "output_type": "execute_result"
    }
   ],
   "source": [
    "c = True\n",
    "type(c) # Here python will automatically take True as a boolean value."
   ]
  },
  {
   "cell_type": "code",
   "execution_count": 22,
   "id": "2b294d15-d20c-497c-9047-d341f6e355a4",
   "metadata": {},
   "outputs": [
    {
     "data": {
      "text/plain": [
       "str"
      ]
     },
     "execution_count": 22,
     "metadata": {},
     "output_type": "execute_result"
    }
   ],
   "source": [
    "d = \"Mukesh\"\n",
    "type(d) # It will be taken as string automatically."
   ]
  },
  {
   "cell_type": "code",
   "execution_count": 24,
   "id": "9dbaa233-f396-4ea2-ae41-412dc6fba02c",
   "metadata": {},
   "outputs": [
    {
     "data": {
      "text/plain": [
       "str"
      ]
     },
     "execution_count": 24,
     "metadata": {},
     "output_type": "execute_result"
    }
   ],
   "source": [
    "e = \"100\"\n",
    "type(e) # It will also be taken as string."
   ]
  },
  {
   "cell_type": "markdown",
   "id": "84721335-4e36-45ce-8b1f-5fd6b3960b2a",
   "metadata": {},
   "source": [
    "- Explicit Type Casting >> This type casting helps developers to convert datatypes with the help of inbuilt function."
   ]
  },
  {
   "cell_type": "raw",
   "id": "280be378-d8ed-4a54-9cfb-7cb4d2237ac3",
   "metadata": {},
   "source": [
    "eg of explicit type casting:\n",
    "int()    Convert data into integers but data has to be numbers form. It will show error if we try to convert alphabets into int.\n",
    "float()  Convert data into float but this function also doesn't support alphabets.\n",
    "bool()   Convert data into boolean value i.e., True or False. It will give '0 as False' and 'Any value other than zero as True.'\n",
    "str()    Convert data into string."
   ]
  },
  {
   "cell_type": "code",
   "execution_count": 38,
   "id": "97102268-ddf1-4ef4-9e38-0a353819cef3",
   "metadata": {},
   "outputs": [
    {
     "data": {
      "text/plain": [
       "int"
      ]
     },
     "execution_count": 38,
     "metadata": {},
     "output_type": "execute_result"
    }
   ],
   "source": [
    "# Examples of Explicit Type Casting\n",
    "type(int(b))"
   ]
  },
  {
   "cell_type": "code",
   "execution_count": 40,
   "id": "388d9acc-6ca2-4626-a016-7f192e589821",
   "metadata": {},
   "outputs": [
    {
     "data": {
      "text/plain": [
       "str"
      ]
     },
     "execution_count": 40,
     "metadata": {},
     "output_type": "execute_result"
    }
   ],
   "source": [
    "type(str(b))"
   ]
  },
  {
   "cell_type": "code",
   "execution_count": 42,
   "id": "22539962-7e56-4e3b-8bfd-656575acfe11",
   "metadata": {},
   "outputs": [
    {
     "data": {
      "text/plain": [
       "'True'"
      ]
     },
     "execution_count": 42,
     "metadata": {},
     "output_type": "execute_result"
    }
   ],
   "source": [
    "str(c)"
   ]
  },
  {
   "cell_type": "code",
   "execution_count": 44,
   "id": "2398130a-029b-4185-899e-e8dd49ad5c42",
   "metadata": {},
   "outputs": [
    {
     "data": {
      "text/plain": [
       "1"
      ]
     },
     "execution_count": 44,
     "metadata": {},
     "output_type": "execute_result"
    }
   ],
   "source": [
    "int(c)"
   ]
  },
  {
   "cell_type": "markdown",
   "id": "42cfa7f3-60f4-4c4e-9e1e-fc63d4d3ba2e",
   "metadata": {},
   "source": [
    "## 6. How do conditional statements work in Python? Illustrate with examples."
   ]
  },
  {
   "cell_type": "markdown",
   "id": "7834b941-42bc-4c48-8425-3d4674476766",
   "metadata": {},
   "source": [
    "Conditional statements in Python are used to perform different actions based on different conditions. They evaluate whether a certain condition is true or false and execute code accordingly. Python supports the following types of conditional statements:\n",
    "#### if >> It executes a block of code if the condition is true otherwise it doesn't run the code.\n",
    "#### if else >> Executes a block of code if the condtion is true otherwise it executes the other block of code.\n",
    "#### if elif else >> Executes multiple block of codes depending on the conditions. We can put multiple conditions in elif block.\n",
    "#### nested if >> Executes conditional statements within other conditional statements."
   ]
  },
  {
   "cell_type": "code",
   "execution_count": 72,
   "id": "529c430e-12ea-474f-9721-e2231a945245",
   "metadata": {},
   "outputs": [
    {
     "name": "stdout",
     "output_type": "stream",
     "text": [
      "x is greater than 10\n"
     ]
    }
   ],
   "source": [
    "# if\n",
    "x = 15 # if we put 10 or less here this function will not be executed.\n",
    "if x > 10:\n",
    "    print(\"x is greater than 10\")"
   ]
  },
  {
   "cell_type": "code",
   "execution_count": 74,
   "id": "c2720284-70f7-46f4-bd13-8341bef30d02",
   "metadata": {},
   "outputs": [
    {
     "name": "stdout",
     "output_type": "stream",
     "text": [
      "x is less than or equal to 10\n"
     ]
    }
   ],
   "source": [
    "# if else\n",
    "x = 5 # if we put 10 or above here it will execute the funciton written in the else block.\n",
    "if x > 10:\n",
    "    print(\"x is greater than 10\")\n",
    "else:\n",
    "    print(\"x is less than or equal to 10\")"
   ]
  },
  {
   "cell_type": "code",
   "execution_count": 78,
   "id": "1fd5b15a-d240-42b3-b934-4f056646f436",
   "metadata": {},
   "outputs": [
    {
     "name": "stdout",
     "output_type": "stream",
     "text": [
      "Grade C\n"
     ]
    }
   ],
   "source": [
    "# if elif else\n",
    "score = 70\n",
    "if score >= 90:\n",
    "    print(\"Grade A\") # Grade A will be printed if the score is 90 and above.\n",
    "elif (80 <= score < 90):\n",
    "    print(\"Grade B\") # Grade B will be printed if the score is equal or greater than 80 and below 90.\n",
    "elif (70 <= score < 80):\n",
    "    print(\"Grade C\") # Grade C will be printed if the score is equal or greater than 70 and below 80.\n",
    "else:\n",
    "    print(\"Grade D\") # Grade D will be printed if the score is less than 70."
   ]
  },
  {
   "cell_type": "code",
   "execution_count": 80,
   "id": "5df5d1a3-39e4-4713-9c13-70c42bad3dcf",
   "metadata": {},
   "outputs": [
    {
     "name": "stdout",
     "output_type": "stream",
     "text": [
      "x is an odd number\n"
     ]
    }
   ],
   "source": [
    "# nested if\n",
    "x = 1\n",
    "if x > 0:\n",
    "    if x % 2 == 0:\n",
    "        print(\"x is a natural number and is even\") # if both conditons are satisfied this block will be executed.\n",
    "    else:\n",
    "        print(\"x is an odd number\") # if only first condition is satisfied than this block will be executed.\n",
    "else:\n",
    "    print(\"x is either 0 or negative\") # if none of the conditions are satisfied than this block will be executed."
   ]
  },
  {
   "cell_type": "markdown",
   "id": "ccbbb6f8-fc66-4013-947c-bffc15a1b324",
   "metadata": {},
   "source": [
    "## 7. Describe the different types of loops in Python and their use cases with examples."
   ]
  },
  {
   "cell_type": "markdown",
   "id": "e3b6220d-2595-44e8-92bd-b82418dc43f3",
   "metadata": {},
   "source": [
    "#### Loops are used to repeadly execute a block of code until the condition is satisfied.\n",
    "Python has two main types of loops:\n",
    "- `for` Loop - It iterate over a sequence of elements like string, tulips, or lists.\n",
    "- `while` Loop - It executes a block block of code until the condition is met."
   ]
  },
  {
   "cell_type": "code",
   "execution_count": 11,
   "id": "e49edd08-2711-4f0a-8ea8-750f4a9ca83f",
   "metadata": {},
   "outputs": [
    {
     "name": "stdout",
     "output_type": "stream",
     "text": [
      "1\n",
      "2\n",
      "3\n",
      "4\n",
      "5\n"
     ]
    }
   ],
   "source": [
    "# for loop\n",
    "numbers = [1, 2, 3, 4, 5]\n",
    "for num in numbers:\n",
    "    print(num)"
   ]
  },
  {
   "cell_type": "code",
   "execution_count": 24,
   "id": "8ac8214c-1d40-4595-8f32-877df1723102",
   "metadata": {},
   "outputs": [
    {
     "name": "stdout",
     "output_type": "stream",
     "text": [
      "Iteration 0\n",
      "Iteration 1\n",
      "Iteration 2\n",
      "Iteration 3\n",
      "Iteration 4\n"
     ]
    }
   ],
   "source": [
    "# Iterate over a range\n",
    "for i in range(5):  # This runs from 0 to 4\n",
    "    print(f\"Iteration {i}\")"
   ]
  },
  {
   "cell_type": "code",
   "execution_count": 28,
   "id": "0b7ebdb6-7f92-4d48-b8d3-124ce6cfc1ee",
   "metadata": {},
   "outputs": [
    {
     "name": "stdout",
     "output_type": "stream",
     "text": [
      "Value of x: 1\n",
      "Value of x: 2\n",
      "Value of x: 3\n",
      "Value of x: 4\n",
      "Value of x: 5\n"
     ]
    }
   ],
   "source": [
    "# while loop\n",
    "x = 1\n",
    "while x < 6:\n",
    "    print(f\"Value of x: {x}\") # Here code will be executed until the x becomes equal to or greater than 6. \n",
    "    x += 1"
   ]
  },
  {
   "cell_type": "code",
   "execution_count": 30,
   "id": "e9427911-806c-456e-bade-d591e14f2dba",
   "metadata": {},
   "outputs": [
    {
     "name": "stdout",
     "output_type": "stream",
     "text": [
      "1 x 1 = 1\n",
      "1 x 2 = 2\n",
      "1 x 3 = 3\n",
      "2 x 1 = 2\n",
      "2 x 2 = 4\n",
      "2 x 3 = 6\n",
      "3 x 1 = 3\n",
      "3 x 2 = 6\n",
      "3 x 3 = 9\n"
     ]
    }
   ],
   "source": [
    "# There is also another type of loop known as nested loops\n",
    "# Create a multiplication table\n",
    "for i in range(1, 4):  # Outer loop\n",
    "    for j in range(1, 4):  # Inner loop\n",
    "        print(f\"{i} x {j} = {i * j}\")"
   ]
  }
 ],
 "metadata": {
  "kernelspec": {
   "display_name": "Python 3 (ipykernel)",
   "language": "python",
   "name": "python3"
  },
  "language_info": {
   "codemirror_mode": {
    "name": "ipython",
    "version": 3
   },
   "file_extension": ".py",
   "mimetype": "text/x-python",
   "name": "python",
   "nbconvert_exporter": "python",
   "pygments_lexer": "ipython3",
   "version": "3.12.7"
  }
 },
 "nbformat": 4,
 "nbformat_minor": 5
}
